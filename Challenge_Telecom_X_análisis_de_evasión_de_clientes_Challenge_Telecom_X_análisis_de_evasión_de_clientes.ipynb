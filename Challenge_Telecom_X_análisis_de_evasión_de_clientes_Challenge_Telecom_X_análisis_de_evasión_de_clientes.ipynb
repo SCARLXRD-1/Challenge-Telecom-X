{
  "nbformat": 4,
  "nbformat_minor": 0,
  "metadata": {
    "colab": {
      "provenance": [],
      "authorship_tag": "ABX9TyP4ugpLpMi1CVkcT39ihrDq",
      "include_colab_link": true
    },
    "kernelspec": {
      "name": "python3",
      "display_name": "Python 3"
    },
    "language_info": {
      "name": "python"
    }
  },
  "cells": [
    {
      "cell_type": "markdown",
      "metadata": {
        "id": "view-in-github",
        "colab_type": "text"
      },
      "source": [
        "<a href=\"https://colab.research.google.com/github/SCARLXRD-1/Challenge-Telecom-X/blob/main/Challenge_Telecom_X_an%C3%A1lisis_de_evasi%C3%B3n_de_clientes_Challenge_Telecom_X_an%C3%A1lisis_de_evasi%C3%B3n_de_clientes.ipynb\" target=\"_parent\"><img src=\"https://colab.research.google.com/assets/colab-badge.svg\" alt=\"Open In Colab\"/></a>"
      ]
    },
    {
      "cell_type": "markdown",
      "source": [
        "# 📌 Extracción"
      ],
      "metadata": {
        "id": "N_SdtLTdHTiz"
      }
    },
    {
      "cell_type": "markdown",
      "source": [
        "**Extraccion de los datos desde el formato JSON**"
      ],
      "metadata": {
        "id": "itAIwYzxIaUz"
      }
    },
    {
      "cell_type": "code",
      "source": [
        "import pandas as pd\n",
        "\n",
        "# URL del archivo JSON\n",
        "url = \"https://raw.githubusercontent.com/alura-cursos/challenge2-data-science-LATAM/refs/heads/main/TelecomX_Data.json\"\n",
        "\n",
        "# Cargar los datos desde la URL y convertir a DataFrame\n",
        "df = pd.read_json(url)\n",
        "\n",
        "# Mostrar las primeras filas para verificar\n",
        "print(df.head())\n"
      ],
      "metadata": {
        "colab": {
          "base_uri": "https://localhost:8080/"
        },
        "id": "jZskjkg_IZbl",
        "outputId": "57e69c67-43c8-4039-ec06-450fb546b7d0"
      },
      "execution_count": 1,
      "outputs": [
        {
          "output_type": "stream",
          "name": "stdout",
          "text": [
            "   customerID Churn                                           customer  \\\n",
            "0  0002-ORFBO    No  {'gender': 'Female', 'SeniorCitizen': 0, 'Part...   \n",
            "1  0003-MKNFE    No  {'gender': 'Male', 'SeniorCitizen': 0, 'Partne...   \n",
            "2  0004-TLHLJ   Yes  {'gender': 'Male', 'SeniorCitizen': 0, 'Partne...   \n",
            "3  0011-IGKFF   Yes  {'gender': 'Male', 'SeniorCitizen': 1, 'Partne...   \n",
            "4  0013-EXCHZ   Yes  {'gender': 'Female', 'SeniorCitizen': 1, 'Part...   \n",
            "\n",
            "                                             phone  \\\n",
            "0   {'PhoneService': 'Yes', 'MultipleLines': 'No'}   \n",
            "1  {'PhoneService': 'Yes', 'MultipleLines': 'Yes'}   \n",
            "2   {'PhoneService': 'Yes', 'MultipleLines': 'No'}   \n",
            "3   {'PhoneService': 'Yes', 'MultipleLines': 'No'}   \n",
            "4   {'PhoneService': 'Yes', 'MultipleLines': 'No'}   \n",
            "\n",
            "                                            internet  \\\n",
            "0  {'InternetService': 'DSL', 'OnlineSecurity': '...   \n",
            "1  {'InternetService': 'DSL', 'OnlineSecurity': '...   \n",
            "2  {'InternetService': 'Fiber optic', 'OnlineSecu...   \n",
            "3  {'InternetService': 'Fiber optic', 'OnlineSecu...   \n",
            "4  {'InternetService': 'Fiber optic', 'OnlineSecu...   \n",
            "\n",
            "                                             account  \n",
            "0  {'Contract': 'One year', 'PaperlessBilling': '...  \n",
            "1  {'Contract': 'Month-to-month', 'PaperlessBilli...  \n",
            "2  {'Contract': 'Month-to-month', 'PaperlessBilli...  \n",
            "3  {'Contract': 'Month-to-month', 'PaperlessBilli...  \n",
            "4  {'Contract': 'Month-to-month', 'PaperlessBilli...  \n"
          ]
        }
      ]
    },
    {
      "cell_type": "markdown",
      "source": [
        "# 🔧 Transformación\n"
      ],
      "metadata": {
        "id": "STWp_BPWR5zK"
      }
    },
    {
      "cell_type": "markdown",
      "source": [
        "**Conozce el conjunto de datos**"
      ],
      "metadata": {
        "id": "gKhe-ICrJoBs"
      }
    },
    {
      "cell_type": "code",
      "source": [
        "# Ver columnas y tipos de datos\n",
        "print(\"Columnas y tipos de datos:\\n\")\n",
        "print(df.dtypes)\n",
        "\n",
        "# Ver dimensiones y nombres de columnas\n",
        "print(\"\\nNúmero de filas y columnas:\", df.shape)\n",
        "print(\"\\nNombres de columnas:\\n\", df.columns.tolist())\n"
      ],
      "metadata": {
        "colab": {
          "base_uri": "https://localhost:8080/"
        },
        "id": "uRllJIwLJrBp",
        "outputId": "8e825d10-a37b-4615-d723-dd6eb5dac0f2"
      },
      "execution_count": 2,
      "outputs": [
        {
          "output_type": "stream",
          "name": "stdout",
          "text": [
            "Columnas y tipos de datos:\n",
            "\n",
            "customerID    object\n",
            "Churn         object\n",
            "customer      object\n",
            "phone         object\n",
            "internet      object\n",
            "account       object\n",
            "dtype: object\n",
            "\n",
            "Número de filas y columnas: (7267, 6)\n",
            "\n",
            "Nombres de columnas:\n",
            " ['customerID', 'Churn', 'customer', 'phone', 'internet', 'account']\n"
          ]
        }
      ]
    },
    {
      "cell_type": "code",
      "source": [
        "# Ver algunas filas para conocer mejor los valores\n",
        "df.sample(5)  # Muestra aleatoria de 5 filas\n"
      ],
      "metadata": {
        "colab": {
          "base_uri": "https://localhost:8080/",
          "height": 293
        },
        "id": "OT8T5SbpJw0i",
        "outputId": "44e2d80f-14e7-49cb-f3ec-ba64d0770764"
      },
      "execution_count": 3,
      "outputs": [
        {
          "output_type": "execute_result",
          "data": {
            "text/plain": [
              "      customerID Churn                                           customer  \\\n",
              "197   0308-GIQJT    No  {'gender': 'Male', 'SeniorCitizen': 1, 'Partne...   \n",
              "1496  2150-UWTFY   Yes  {'gender': 'Female', 'SeniorCitizen': 0, 'Part...   \n",
              "1801  2568-BRGYX   Yes  {'gender': 'Male', 'SeniorCitizen': 0, 'Partne...   \n",
              "2754  3806-YAZOV    No  {'gender': 'Female', 'SeniorCitizen': 0, 'Part...   \n",
              "7259  9979-RGMZT    No  {'gender': 'Female', 'SeniorCitizen': 0, 'Part...   \n",
              "\n",
              "                                                phone  \\\n",
              "197   {'PhoneService': 'Yes', 'MultipleLines': 'Yes'}   \n",
              "1496   {'PhoneService': 'Yes', 'MultipleLines': 'No'}   \n",
              "1801   {'PhoneService': 'Yes', 'MultipleLines': 'No'}   \n",
              "2754   {'PhoneService': 'Yes', 'MultipleLines': 'No'}   \n",
              "7259   {'PhoneService': 'Yes', 'MultipleLines': 'No'}   \n",
              "\n",
              "                                               internet  \\\n",
              "197   {'InternetService': 'Fiber optic', 'OnlineSecu...   \n",
              "1496  {'InternetService': 'DSL', 'OnlineSecurity': '...   \n",
              "1801  {'InternetService': 'Fiber optic', 'OnlineSecu...   \n",
              "2754  {'InternetService': 'No', 'OnlineSecurity': 'N...   \n",
              "7259  {'InternetService': 'Fiber optic', 'OnlineSecu...   \n",
              "\n",
              "                                                account  \n",
              "197   {'Contract': 'One year', 'PaperlessBilling': '...  \n",
              "1496  {'Contract': 'Month-to-month', 'PaperlessBilli...  \n",
              "1801  {'Contract': 'Month-to-month', 'PaperlessBilli...  \n",
              "2754  {'Contract': 'Month-to-month', 'PaperlessBilli...  \n",
              "7259  {'Contract': 'One year', 'PaperlessBilling': '...  "
            ],
            "text/html": [
              "\n",
              "  <div id=\"df-23fce371-4eed-4a16-9267-3be3183f9aab\" class=\"colab-df-container\">\n",
              "    <div>\n",
              "<style scoped>\n",
              "    .dataframe tbody tr th:only-of-type {\n",
              "        vertical-align: middle;\n",
              "    }\n",
              "\n",
              "    .dataframe tbody tr th {\n",
              "        vertical-align: top;\n",
              "    }\n",
              "\n",
              "    .dataframe thead th {\n",
              "        text-align: right;\n",
              "    }\n",
              "</style>\n",
              "<table border=\"1\" class=\"dataframe\">\n",
              "  <thead>\n",
              "    <tr style=\"text-align: right;\">\n",
              "      <th></th>\n",
              "      <th>customerID</th>\n",
              "      <th>Churn</th>\n",
              "      <th>customer</th>\n",
              "      <th>phone</th>\n",
              "      <th>internet</th>\n",
              "      <th>account</th>\n",
              "    </tr>\n",
              "  </thead>\n",
              "  <tbody>\n",
              "    <tr>\n",
              "      <th>197</th>\n",
              "      <td>0308-GIQJT</td>\n",
              "      <td>No</td>\n",
              "      <td>{'gender': 'Male', 'SeniorCitizen': 1, 'Partne...</td>\n",
              "      <td>{'PhoneService': 'Yes', 'MultipleLines': 'Yes'}</td>\n",
              "      <td>{'InternetService': 'Fiber optic', 'OnlineSecu...</td>\n",
              "      <td>{'Contract': 'One year', 'PaperlessBilling': '...</td>\n",
              "    </tr>\n",
              "    <tr>\n",
              "      <th>1496</th>\n",
              "      <td>2150-UWTFY</td>\n",
              "      <td>Yes</td>\n",
              "      <td>{'gender': 'Female', 'SeniorCitizen': 0, 'Part...</td>\n",
              "      <td>{'PhoneService': 'Yes', 'MultipleLines': 'No'}</td>\n",
              "      <td>{'InternetService': 'DSL', 'OnlineSecurity': '...</td>\n",
              "      <td>{'Contract': 'Month-to-month', 'PaperlessBilli...</td>\n",
              "    </tr>\n",
              "    <tr>\n",
              "      <th>1801</th>\n",
              "      <td>2568-BRGYX</td>\n",
              "      <td>Yes</td>\n",
              "      <td>{'gender': 'Male', 'SeniorCitizen': 0, 'Partne...</td>\n",
              "      <td>{'PhoneService': 'Yes', 'MultipleLines': 'No'}</td>\n",
              "      <td>{'InternetService': 'Fiber optic', 'OnlineSecu...</td>\n",
              "      <td>{'Contract': 'Month-to-month', 'PaperlessBilli...</td>\n",
              "    </tr>\n",
              "    <tr>\n",
              "      <th>2754</th>\n",
              "      <td>3806-YAZOV</td>\n",
              "      <td>No</td>\n",
              "      <td>{'gender': 'Female', 'SeniorCitizen': 0, 'Part...</td>\n",
              "      <td>{'PhoneService': 'Yes', 'MultipleLines': 'No'}</td>\n",
              "      <td>{'InternetService': 'No', 'OnlineSecurity': 'N...</td>\n",
              "      <td>{'Contract': 'Month-to-month', 'PaperlessBilli...</td>\n",
              "    </tr>\n",
              "    <tr>\n",
              "      <th>7259</th>\n",
              "      <td>9979-RGMZT</td>\n",
              "      <td>No</td>\n",
              "      <td>{'gender': 'Female', 'SeniorCitizen': 0, 'Part...</td>\n",
              "      <td>{'PhoneService': 'Yes', 'MultipleLines': 'No'}</td>\n",
              "      <td>{'InternetService': 'Fiber optic', 'OnlineSecu...</td>\n",
              "      <td>{'Contract': 'One year', 'PaperlessBilling': '...</td>\n",
              "    </tr>\n",
              "  </tbody>\n",
              "</table>\n",
              "</div>\n",
              "    <div class=\"colab-df-buttons\">\n",
              "\n",
              "  <div class=\"colab-df-container\">\n",
              "    <button class=\"colab-df-convert\" onclick=\"convertToInteractive('df-23fce371-4eed-4a16-9267-3be3183f9aab')\"\n",
              "            title=\"Convert this dataframe to an interactive table.\"\n",
              "            style=\"display:none;\">\n",
              "\n",
              "  <svg xmlns=\"http://www.w3.org/2000/svg\" height=\"24px\" viewBox=\"0 -960 960 960\">\n",
              "    <path d=\"M120-120v-720h720v720H120Zm60-500h600v-160H180v160Zm220 220h160v-160H400v160Zm0 220h160v-160H400v160ZM180-400h160v-160H180v160Zm440 0h160v-160H620v160ZM180-180h160v-160H180v160Zm440 0h160v-160H620v160Z\"/>\n",
              "  </svg>\n",
              "    </button>\n",
              "\n",
              "  <style>\n",
              "    .colab-df-container {\n",
              "      display:flex;\n",
              "      gap: 12px;\n",
              "    }\n",
              "\n",
              "    .colab-df-convert {\n",
              "      background-color: #E8F0FE;\n",
              "      border: none;\n",
              "      border-radius: 50%;\n",
              "      cursor: pointer;\n",
              "      display: none;\n",
              "      fill: #1967D2;\n",
              "      height: 32px;\n",
              "      padding: 0 0 0 0;\n",
              "      width: 32px;\n",
              "    }\n",
              "\n",
              "    .colab-df-convert:hover {\n",
              "      background-color: #E2EBFA;\n",
              "      box-shadow: 0px 1px 2px rgba(60, 64, 67, 0.3), 0px 1px 3px 1px rgba(60, 64, 67, 0.15);\n",
              "      fill: #174EA6;\n",
              "    }\n",
              "\n",
              "    .colab-df-buttons div {\n",
              "      margin-bottom: 4px;\n",
              "    }\n",
              "\n",
              "    [theme=dark] .colab-df-convert {\n",
              "      background-color: #3B4455;\n",
              "      fill: #D2E3FC;\n",
              "    }\n",
              "\n",
              "    [theme=dark] .colab-df-convert:hover {\n",
              "      background-color: #434B5C;\n",
              "      box-shadow: 0px 1px 3px 1px rgba(0, 0, 0, 0.15);\n",
              "      filter: drop-shadow(0px 1px 2px rgba(0, 0, 0, 0.3));\n",
              "      fill: #FFFFFF;\n",
              "    }\n",
              "  </style>\n",
              "\n",
              "    <script>\n",
              "      const buttonEl =\n",
              "        document.querySelector('#df-23fce371-4eed-4a16-9267-3be3183f9aab button.colab-df-convert');\n",
              "      buttonEl.style.display =\n",
              "        google.colab.kernel.accessAllowed ? 'block' : 'none';\n",
              "\n",
              "      async function convertToInteractive(key) {\n",
              "        const element = document.querySelector('#df-23fce371-4eed-4a16-9267-3be3183f9aab');\n",
              "        const dataTable =\n",
              "          await google.colab.kernel.invokeFunction('convertToInteractive',\n",
              "                                                    [key], {});\n",
              "        if (!dataTable) return;\n",
              "\n",
              "        const docLinkHtml = 'Like what you see? Visit the ' +\n",
              "          '<a target=\"_blank\" href=https://colab.research.google.com/notebooks/data_table.ipynb>data table notebook</a>'\n",
              "          + ' to learn more about interactive tables.';\n",
              "        element.innerHTML = '';\n",
              "        dataTable['output_type'] = 'display_data';\n",
              "        await google.colab.output.renderOutput(dataTable, element);\n",
              "        const docLink = document.createElement('div');\n",
              "        docLink.innerHTML = docLinkHtml;\n",
              "        element.appendChild(docLink);\n",
              "      }\n",
              "    </script>\n",
              "  </div>\n",
              "\n",
              "\n",
              "    <div id=\"df-4ecfebcb-acf9-4fc1-8cd5-cad2afac2afb\">\n",
              "      <button class=\"colab-df-quickchart\" onclick=\"quickchart('df-4ecfebcb-acf9-4fc1-8cd5-cad2afac2afb')\"\n",
              "                title=\"Suggest charts\"\n",
              "                style=\"display:none;\">\n",
              "\n",
              "<svg xmlns=\"http://www.w3.org/2000/svg\" height=\"24px\"viewBox=\"0 0 24 24\"\n",
              "     width=\"24px\">\n",
              "    <g>\n",
              "        <path d=\"M19 3H5c-1.1 0-2 .9-2 2v14c0 1.1.9 2 2 2h14c1.1 0 2-.9 2-2V5c0-1.1-.9-2-2-2zM9 17H7v-7h2v7zm4 0h-2V7h2v10zm4 0h-2v-4h2v4z\"/>\n",
              "    </g>\n",
              "</svg>\n",
              "      </button>\n",
              "\n",
              "<style>\n",
              "  .colab-df-quickchart {\n",
              "      --bg-color: #E8F0FE;\n",
              "      --fill-color: #1967D2;\n",
              "      --hover-bg-color: #E2EBFA;\n",
              "      --hover-fill-color: #174EA6;\n",
              "      --disabled-fill-color: #AAA;\n",
              "      --disabled-bg-color: #DDD;\n",
              "  }\n",
              "\n",
              "  [theme=dark] .colab-df-quickchart {\n",
              "      --bg-color: #3B4455;\n",
              "      --fill-color: #D2E3FC;\n",
              "      --hover-bg-color: #434B5C;\n",
              "      --hover-fill-color: #FFFFFF;\n",
              "      --disabled-bg-color: #3B4455;\n",
              "      --disabled-fill-color: #666;\n",
              "  }\n",
              "\n",
              "  .colab-df-quickchart {\n",
              "    background-color: var(--bg-color);\n",
              "    border: none;\n",
              "    border-radius: 50%;\n",
              "    cursor: pointer;\n",
              "    display: none;\n",
              "    fill: var(--fill-color);\n",
              "    height: 32px;\n",
              "    padding: 0;\n",
              "    width: 32px;\n",
              "  }\n",
              "\n",
              "  .colab-df-quickchart:hover {\n",
              "    background-color: var(--hover-bg-color);\n",
              "    box-shadow: 0 1px 2px rgba(60, 64, 67, 0.3), 0 1px 3px 1px rgba(60, 64, 67, 0.15);\n",
              "    fill: var(--button-hover-fill-color);\n",
              "  }\n",
              "\n",
              "  .colab-df-quickchart-complete:disabled,\n",
              "  .colab-df-quickchart-complete:disabled:hover {\n",
              "    background-color: var(--disabled-bg-color);\n",
              "    fill: var(--disabled-fill-color);\n",
              "    box-shadow: none;\n",
              "  }\n",
              "\n",
              "  .colab-df-spinner {\n",
              "    border: 2px solid var(--fill-color);\n",
              "    border-color: transparent;\n",
              "    border-bottom-color: var(--fill-color);\n",
              "    animation:\n",
              "      spin 1s steps(1) infinite;\n",
              "  }\n",
              "\n",
              "  @keyframes spin {\n",
              "    0% {\n",
              "      border-color: transparent;\n",
              "      border-bottom-color: var(--fill-color);\n",
              "      border-left-color: var(--fill-color);\n",
              "    }\n",
              "    20% {\n",
              "      border-color: transparent;\n",
              "      border-left-color: var(--fill-color);\n",
              "      border-top-color: var(--fill-color);\n",
              "    }\n",
              "    30% {\n",
              "      border-color: transparent;\n",
              "      border-left-color: var(--fill-color);\n",
              "      border-top-color: var(--fill-color);\n",
              "      border-right-color: var(--fill-color);\n",
              "    }\n",
              "    40% {\n",
              "      border-color: transparent;\n",
              "      border-right-color: var(--fill-color);\n",
              "      border-top-color: var(--fill-color);\n",
              "    }\n",
              "    60% {\n",
              "      border-color: transparent;\n",
              "      border-right-color: var(--fill-color);\n",
              "    }\n",
              "    80% {\n",
              "      border-color: transparent;\n",
              "      border-right-color: var(--fill-color);\n",
              "      border-bottom-color: var(--fill-color);\n",
              "    }\n",
              "    90% {\n",
              "      border-color: transparent;\n",
              "      border-bottom-color: var(--fill-color);\n",
              "    }\n",
              "  }\n",
              "</style>\n",
              "\n",
              "      <script>\n",
              "        async function quickchart(key) {\n",
              "          const quickchartButtonEl =\n",
              "            document.querySelector('#' + key + ' button');\n",
              "          quickchartButtonEl.disabled = true;  // To prevent multiple clicks.\n",
              "          quickchartButtonEl.classList.add('colab-df-spinner');\n",
              "          try {\n",
              "            const charts = await google.colab.kernel.invokeFunction(\n",
              "                'suggestCharts', [key], {});\n",
              "          } catch (error) {\n",
              "            console.error('Error during call to suggestCharts:', error);\n",
              "          }\n",
              "          quickchartButtonEl.classList.remove('colab-df-spinner');\n",
              "          quickchartButtonEl.classList.add('colab-df-quickchart-complete');\n",
              "        }\n",
              "        (() => {\n",
              "          let quickchartButtonEl =\n",
              "            document.querySelector('#df-4ecfebcb-acf9-4fc1-8cd5-cad2afac2afb button');\n",
              "          quickchartButtonEl.style.display =\n",
              "            google.colab.kernel.accessAllowed ? 'block' : 'none';\n",
              "        })();\n",
              "      </script>\n",
              "    </div>\n",
              "\n",
              "    </div>\n",
              "  </div>\n"
            ],
            "application/vnd.google.colaboratory.intrinsic+json": {
              "type": "dataframe",
              "summary": "{\n  \"name\": \"df\",\n  \"rows\": 5,\n  \"fields\": [\n    {\n      \"column\": \"customerID\",\n      \"properties\": {\n        \"dtype\": \"string\",\n        \"num_unique_values\": 5,\n        \"samples\": [\n          \"2150-UWTFY\",\n          \"9979-RGMZT\",\n          \"2568-BRGYX\"\n        ],\n        \"semantic_type\": \"\",\n        \"description\": \"\"\n      }\n    },\n    {\n      \"column\": \"Churn\",\n      \"properties\": {\n        \"dtype\": \"category\",\n        \"num_unique_values\": 2,\n        \"samples\": [\n          \"Yes\",\n          \"No\"\n        ],\n        \"semantic_type\": \"\",\n        \"description\": \"\"\n      }\n    },\n    {\n      \"column\": \"customer\",\n      \"properties\": {\n        \"dtype\": \"object\",\n        \"semantic_type\": \"\",\n        \"description\": \"\"\n      }\n    },\n    {\n      \"column\": \"phone\",\n      \"properties\": {\n        \"dtype\": \"object\",\n        \"semantic_type\": \"\",\n        \"description\": \"\"\n      }\n    },\n    {\n      \"column\": \"internet\",\n      \"properties\": {\n        \"dtype\": \"object\",\n        \"semantic_type\": \"\",\n        \"description\": \"\"\n      }\n    },\n    {\n      \"column\": \"account\",\n      \"properties\": {\n        \"dtype\": \"object\",\n        \"semantic_type\": \"\",\n        \"description\": \"\"\n      }\n    }\n  ]\n}"
            }
          },
          "metadata": {},
          "execution_count": 3
        }
      ]
    },
    {
      "cell_type": "code",
      "source": [
        "# Expandir columnas anidadas\n",
        "customer_expanded = pd.json_normalize(df['customer'])\n",
        "phone_expanded = pd.json_normalize(df['phone'])\n",
        "internet_expanded = pd.json_normalize(df['internet'])\n",
        "account_expanded = pd.json_normalize(df['account'])\n",
        "\n",
        "# Unir todo al DataFrame principal\n",
        "df_final = pd.concat([\n",
        "    df[['customerID', 'Churn']],  # columnas principales\n",
        "    customer_expanded,\n",
        "    phone_expanded,\n",
        "    internet_expanded,\n",
        "    account_expanded\n",
        "], axis=1)\n"
      ],
      "metadata": {
        "id": "wGI8BdT8J12X"
      },
      "execution_count": 4,
      "outputs": []
    },
    {
      "cell_type": "code",
      "source": [
        "# Revisar tipos de datos y columnas\n",
        "print(df_final.dtypes)\n",
        "print(df_final.head())\n"
      ],
      "metadata": {
        "colab": {
          "base_uri": "https://localhost:8080/"
        },
        "id": "cuL9OCk9Npbn",
        "outputId": "13dc0d55-186f-477b-e009-451fc3678de1"
      },
      "execution_count": 5,
      "outputs": [
        {
          "output_type": "stream",
          "name": "stdout",
          "text": [
            "customerID           object\n",
            "Churn                object\n",
            "gender               object\n",
            "SeniorCitizen         int64\n",
            "Partner              object\n",
            "Dependents           object\n",
            "tenure                int64\n",
            "PhoneService         object\n",
            "MultipleLines        object\n",
            "InternetService      object\n",
            "OnlineSecurity       object\n",
            "OnlineBackup         object\n",
            "DeviceProtection     object\n",
            "TechSupport          object\n",
            "StreamingTV          object\n",
            "StreamingMovies      object\n",
            "Contract             object\n",
            "PaperlessBilling     object\n",
            "PaymentMethod        object\n",
            "Charges.Monthly     float64\n",
            "Charges.Total        object\n",
            "dtype: object\n",
            "   customerID Churn  gender  SeniorCitizen Partner Dependents  tenure  \\\n",
            "0  0002-ORFBO    No  Female              0     Yes        Yes       9   \n",
            "1  0003-MKNFE    No    Male              0      No         No       9   \n",
            "2  0004-TLHLJ   Yes    Male              0      No         No       4   \n",
            "3  0011-IGKFF   Yes    Male              1     Yes         No      13   \n",
            "4  0013-EXCHZ   Yes  Female              1     Yes         No       3   \n",
            "\n",
            "  PhoneService MultipleLines InternetService  ... OnlineBackup  \\\n",
            "0          Yes            No             DSL  ...          Yes   \n",
            "1          Yes           Yes             DSL  ...           No   \n",
            "2          Yes            No     Fiber optic  ...           No   \n",
            "3          Yes            No     Fiber optic  ...          Yes   \n",
            "4          Yes            No     Fiber optic  ...           No   \n",
            "\n",
            "  DeviceProtection TechSupport StreamingTV StreamingMovies        Contract  \\\n",
            "0               No         Yes         Yes              No        One year   \n",
            "1               No          No          No             Yes  Month-to-month   \n",
            "2              Yes          No          No              No  Month-to-month   \n",
            "3              Yes          No         Yes             Yes  Month-to-month   \n",
            "4               No         Yes         Yes              No  Month-to-month   \n",
            "\n",
            "  PaperlessBilling     PaymentMethod Charges.Monthly  Charges.Total  \n",
            "0              Yes      Mailed check            65.6          593.3  \n",
            "1               No      Mailed check            59.9          542.4  \n",
            "2              Yes  Electronic check            73.9         280.85  \n",
            "3              Yes  Electronic check            98.0        1237.85  \n",
            "4              Yes      Mailed check            83.9          267.4  \n",
            "\n",
            "[5 rows x 21 columns]\n"
          ]
        }
      ]
    },
    {
      "cell_type": "code",
      "source": [
        "# Estadísticas numéricas\n",
        "print(df_final.select_dtypes(include=['int64', 'float64']).describe())\n",
        "\n",
        "# Estadísticas categóricas\n",
        "print(df_final.select_dtypes(include='object').nunique())\n"
      ],
      "metadata": {
        "colab": {
          "base_uri": "https://localhost:8080/"
        },
        "id": "DyWIhoBzNtZz",
        "outputId": "f0b435d1-6ecb-4fb1-d022-a9ae33f60b5b"
      },
      "execution_count": 6,
      "outputs": [
        {
          "output_type": "stream",
          "name": "stdout",
          "text": [
            "       SeniorCitizen       tenure  Charges.Monthly\n",
            "count    7267.000000  7267.000000      7267.000000\n",
            "mean        0.162653    32.346498        64.720098\n",
            "std         0.369074    24.571773        30.129572\n",
            "min         0.000000     0.000000        18.250000\n",
            "25%         0.000000     9.000000        35.425000\n",
            "50%         0.000000    29.000000        70.300000\n",
            "75%         0.000000    55.000000        89.875000\n",
            "max         1.000000    72.000000       118.750000\n",
            "customerID          7267\n",
            "Churn                  3\n",
            "gender                 2\n",
            "Partner                2\n",
            "Dependents             2\n",
            "PhoneService           2\n",
            "MultipleLines          3\n",
            "InternetService        3\n",
            "OnlineSecurity         3\n",
            "OnlineBackup           3\n",
            "DeviceProtection       3\n",
            "TechSupport            3\n",
            "StreamingTV            3\n",
            "StreamingMovies        3\n",
            "Contract               3\n",
            "PaperlessBilling       2\n",
            "PaymentMethod          4\n",
            "Charges.Total       6531\n",
            "dtype: int64\n"
          ]
        }
      ]
    },
    {
      "cell_type": "code",
      "source": [
        "df_final['Churn_bin'] = df_final['Churn'].map({'Yes': 1, 'No': 0})\n"
      ],
      "metadata": {
        "id": "VHOx8ehuN64d"
      },
      "execution_count": 7,
      "outputs": []
    },
    {
      "cell_type": "code",
      "source": [
        "import seaborn as sns\n",
        "import matplotlib.pyplot as plt\n",
        "\n",
        "# Seleccionar solo columnas numéricas\n",
        "numericas = df_final.select_dtypes(include=['int64', 'float64'])\n",
        "\n",
        "# Ver correlación con Churn_bin\n",
        "correlaciones = numericas.corr()['Churn_bin'].sort_values(ascending=False)\n",
        "print(\"Correlaciones con Churn:\")\n",
        "print(correlaciones)\n"
      ],
      "metadata": {
        "colab": {
          "base_uri": "https://localhost:8080/"
        },
        "id": "lXYHVOYZOBTr",
        "outputId": "4d698681-e2e8-42d4-9a4d-df00ebba53d5"
      },
      "execution_count": 8,
      "outputs": [
        {
          "output_type": "stream",
          "name": "stdout",
          "text": [
            "Correlaciones con Churn:\n",
            "Churn_bin          1.000000\n",
            "Charges.Monthly    0.193356\n",
            "SeniorCitizen      0.150889\n",
            "tenure            -0.352229\n",
            "Name: Churn_bin, dtype: float64\n"
          ]
        }
      ]
    },
    {
      "cell_type": "code",
      "source": [
        "# Ver qué columnas categóricas existen\n",
        "cat_cols = df_final.select_dtypes(include='object').columns.drop(['customerID', 'Churn'])\n",
        "\n",
        "# Ver distribución de Churn por cada variable categórica\n",
        "for col in cat_cols:\n",
        "    print(f\"\\n--- {col} ---\")\n",
        "    print(df_final.groupby(col)['Churn'].value_counts(normalize=True).unstack())\n"
      ],
      "metadata": {
        "colab": {
          "base_uri": "https://localhost:8080/"
        },
        "id": "-H-OX811ODbQ",
        "outputId": "bf9a6792-04ff-4a9c-a87f-cb49b96eeea5"
      },
      "execution_count": 9,
      "outputs": [
        {
          "output_type": "stream",
          "name": "stdout",
          "text": [
            "\n",
            "--- gender ---\n",
            "Churn                   No       Yes\n",
            "gender                              \n",
            "Female  0.028953  0.709633  0.261414\n",
            "Male    0.032653  0.714286  0.253061\n",
            "\n",
            "--- Partner ---\n",
            "Churn                    No       Yes\n",
            "Partner                              \n",
            "No       0.028808  0.651107  0.320085\n",
            "Yes      0.032973  0.776862  0.190165\n",
            "\n",
            "--- Dependents ---\n",
            "Churn                       No       Yes\n",
            "Dependents                              \n",
            "No          0.030083  0.666536  0.303382\n",
            "Yes         0.032554  0.817973  0.149473\n",
            "\n",
            "--- PhoneService ---\n",
            "Churn                         No       Yes\n",
            "PhoneService                              \n",
            "No            0.035361  0.724187  0.240453\n",
            "Yes           0.030335  0.710671  0.258994\n",
            "\n",
            "--- MultipleLines ---\n",
            "Churn                             No       Yes\n",
            "MultipleLines                                 \n",
            "No                0.030043  0.727039  0.242918\n",
            "No phone service  0.035361  0.724187  0.240453\n",
            "Yes               0.030669  0.692007  0.277325\n",
            "\n",
            "--- InternetService ---\n",
            "Churn                            No       Yes\n",
            "InternetService                              \n",
            "DSL              0.026929  0.788585  0.184486\n",
            "Fiber optic      0.031895  0.562539  0.405566\n",
            "No               0.034788  0.893738  0.071474\n",
            "\n",
            "--- OnlineSecurity ---\n",
            "Churn                                No       Yes\n",
            "OnlineSecurity                                   \n",
            "No                   0.030488  0.564579  0.404933\n",
            "No internet service  0.034788  0.893738  0.071474\n",
            "Yes                  0.028393  0.829644  0.141963\n",
            "\n",
            "--- OnlineBackup ---\n",
            "Churn                                No       Yes\n",
            "OnlineBackup                                     \n",
            "No                   0.029541  0.582967  0.387492\n",
            "No internet service  0.034788  0.893738  0.071474\n",
            "Yes                  0.029952  0.761182  0.208866\n",
            "\n",
            "--- DeviceProtection ---\n",
            "Churn                                No       Yes\n",
            "DeviceProtection                                 \n",
            "No                   0.031299  0.589671  0.379030\n",
            "No internet service  0.034788  0.893738  0.071474\n",
            "Yes                  0.027700  0.753513  0.218788\n",
            "\n",
            "--- TechSupport ---\n",
            "Churn                                No       Yes\n",
            "TechSupport                                      \n",
            "No                   0.030430  0.565885  0.403685\n",
            "No internet service  0.034788  0.893738  0.071474\n",
            "Yes                  0.028517  0.824144  0.147338\n",
            "\n",
            "--- StreamingTV ---\n",
            "Churn                                No       Yes\n",
            "StreamingTV                                      \n",
            "No                   0.029696  0.645028  0.325276\n",
            "No internet service  0.034788  0.893738  0.071474\n",
            "Yes                  0.029749  0.678495  0.291756\n",
            "\n",
            "--- StreamingMovies ---\n",
            "Churn                                No       Yes\n",
            "StreamingMovies                                  \n",
            "No                   0.029617  0.643554  0.326829\n",
            "No internet service  0.034788  0.893738  0.071474\n",
            "Yes                  0.029830  0.679688  0.290483\n",
            "\n",
            "--- Contract ---\n",
            "Churn                           No       Yes\n",
            "Contract                                    \n",
            "Month-to-month  0.032459  0.554307  0.413233\n",
            "One year        0.030283  0.860434  0.109282\n",
            "Two year        0.027539  0.944923  0.027539\n",
            "\n",
            "--- PaperlessBilling ---\n",
            "Churn                             No       Yes\n",
            "PaperlessBilling                              \n",
            "No                0.028417  0.812923  0.158660\n",
            "Yes               0.032475  0.642774  0.324751\n",
            "\n",
            "--- PaymentMethod ---\n",
            "Churn                                      No       Yes\n",
            "PaymentMethod                                          \n",
            "Bank transfer (automatic)  0.028320  0.809314  0.162366\n",
            "Credit card (automatic)    0.029337  0.822704  0.147959\n",
            "Electronic check           0.032720  0.529243  0.438037\n",
            "Mailed check               0.031832  0.783183  0.184985\n",
            "\n",
            "--- Charges.Total ---\n",
            "Churn                No  Yes\n",
            "Charges.Total               \n",
            "               NaN  1.0  NaN\n",
            "100.2          NaN  1.0  NaN\n",
            "100.25         NaN  NaN  1.0\n",
            "100.35         NaN  1.0  NaN\n",
            "100.4          NaN  NaN  1.0\n",
            "...            ...  ...  ...\n",
            "997.75         NaN  1.0  NaN\n",
            "998.1          NaN  1.0  NaN\n",
            "999.45         0.5  NaN  0.5\n",
            "999.8          NaN  1.0  NaN\n",
            "999.9          NaN  1.0  NaN\n",
            "\n",
            "[6531 rows x 3 columns]\n"
          ]
        }
      ]
    },
    {
      "cell_type": "code",
      "source": [
        "# Contrato vs Churn\n",
        "sns.countplot(data=df_final, x='Contract', hue='Churn')\n",
        "plt.title(\"Tipo de contrato vs Evasión\")\n",
        "plt.xticks(rotation=45)\n",
        "plt.show()\n"
      ],
      "metadata": {
        "colab": {
          "base_uri": "https://localhost:8080/",
          "height": 548
        },
        "id": "CVXsJuNdOIn9",
        "outputId": "3dca061e-4815-4580-c919-ccacfe224acf"
      },
      "execution_count": 10,
      "outputs": [
        {
          "output_type": "display_data",
          "data": {
            "text/plain": [
              "<Figure size 640x480 with 1 Axes>"
            ],
            "image/png": "[encoded data removed]"
          },
          "metadata": {}
        }
      ]
    },
    {
      "cell_type": "markdown",
      "source": [
        "# **Verificar valores faltantes (NaN)**"
      ],
      "metadata": {
        "id": "58pYux3pO9Xb"
      }
    },
    {
      "cell_type": "code",
      "source": [
        "# Total valores faltantes por columna\n",
        "print(\"Valores faltantes por columna:\")\n",
        "print(df_final.isna().sum())\n",
        "\n",
        "# Porcentaje de valores faltantes por columna\n",
        "print(\"\\nPorcentaje de valores faltantes por columna:\")\n",
        "print((df_final.isna().mean() * 100).round(2))\n"
      ],
      "metadata": {
        "colab": {
          "base_uri": "https://localhost:8080/"
        },
        "id": "nEAus4gVPBu6",
        "outputId": "024c94ef-53e7-45bc-ed31-3b96be094384"
      },
      "execution_count": 11,
      "outputs": [
        {
          "output_type": "stream",
          "name": "stdout",
          "text": [
            "Valores faltantes por columna:\n",
            "customerID            0\n",
            "Churn                 0\n",
            "gender                0\n",
            "SeniorCitizen         0\n",
            "Partner               0\n",
            "Dependents            0\n",
            "tenure                0\n",
            "PhoneService          0\n",
            "MultipleLines         0\n",
            "InternetService       0\n",
            "OnlineSecurity        0\n",
            "OnlineBackup          0\n",
            "DeviceProtection      0\n",
            "TechSupport           0\n",
            "StreamingTV           0\n",
            "StreamingMovies       0\n",
            "Contract              0\n",
            "PaperlessBilling      0\n",
            "PaymentMethod         0\n",
            "Charges.Monthly       0\n",
            "Charges.Total         0\n",
            "Churn_bin           224\n",
            "dtype: int64\n",
            "\n",
            "Porcentaje de valores faltantes por columna:\n",
            "customerID          0.00\n",
            "Churn               0.00\n",
            "gender              0.00\n",
            "SeniorCitizen       0.00\n",
            "Partner             0.00\n",
            "Dependents          0.00\n",
            "tenure              0.00\n",
            "PhoneService        0.00\n",
            "MultipleLines       0.00\n",
            "InternetService     0.00\n",
            "OnlineSecurity      0.00\n",
            "OnlineBackup        0.00\n",
            "DeviceProtection    0.00\n",
            "TechSupport         0.00\n",
            "StreamingTV         0.00\n",
            "StreamingMovies     0.00\n",
            "Contract            0.00\n",
            "PaperlessBilling    0.00\n",
            "PaymentMethod       0.00\n",
            "Charges.Monthly     0.00\n",
            "Charges.Total       0.00\n",
            "Churn_bin           3.08\n",
            "dtype: float64\n"
          ]
        }
      ]
    },
    {
      "cell_type": "markdown",
      "source": [
        "# **Verificar registros duplicados**"
      ],
      "metadata": {
        "id": "t_QtbrZePHRE"
      }
    },
    {
      "cell_type": "code",
      "source": [
        "# Cuántos registros duplicados hay\n",
        "duplicados = df_final.duplicated().sum()\n",
        "print(f\"\\nRegistros duplicados: {duplicados}\")\n",
        "\n",
        "# Opcional: eliminar duplicados\n",
        "# df_final = df_final.drop_duplicates()\n"
      ],
      "metadata": {
        "colab": {
          "base_uri": "https://localhost:8080/"
        },
        "id": "qyHkEucHPHAT",
        "outputId": "6b9c5c8a-d998-4602-a429-0925a741f98c"
      },
      "execution_count": 12,
      "outputs": [
        {
          "output_type": "stream",
          "name": "stdout",
          "text": [
            "\n",
            "Registros duplicados: 0\n"
          ]
        }
      ]
    },
    {
      "cell_type": "markdown",
      "source": [
        "# Verificar errores o inconsistencias en categorías\n",
        "\n"
      ],
      "metadata": {
        "id": "xzSpZlyxPRhV"
      }
    },
    {
      "cell_type": "code",
      "source": [
        "# Listar columnas categóricas\n",
        "cat_cols = df_final.select_dtypes(include='object').columns\n",
        "\n",
        "# Revisar valores únicos por columna categórica\n",
        "for col in cat_cols:\n",
        "    print(f\"\\nValores únicos en '{col}':\")\n",
        "    print(df_final[col].value_counts(dropna=False))\n"
      ],
      "metadata": {
        "colab": {
          "base_uri": "https://localhost:8080/"
        },
        "id": "kBG59XLrPQAp",
        "outputId": "f0d6f515-fb2a-4fca-f51b-b6a269169f9f"
      },
      "execution_count": 13,
      "outputs": [
        {
          "output_type": "stream",
          "name": "stdout",
          "text": [
            "\n",
            "Valores únicos en 'customerID':\n",
            "customerID\n",
            "9995-HOTOH    1\n",
            "0002-ORFBO    1\n",
            "0003-MKNFE    1\n",
            "9970-QBCDA    1\n",
            "9968-FFVVH    1\n",
            "             ..\n",
            "0014-BMAQU    1\n",
            "0013-SMEOE    1\n",
            "0013-MHZWF    1\n",
            "0013-EXCHZ    1\n",
            "0011-IGKFF    1\n",
            "Name: count, Length: 7267, dtype: int64\n",
            "\n",
            "Valores únicos en 'Churn':\n",
            "Churn\n",
            "No     5174\n",
            "Yes    1869\n",
            "        224\n",
            "Name: count, dtype: int64\n",
            "\n",
            "Valores únicos en 'gender':\n",
            "gender\n",
            "Male      3675\n",
            "Female    3592\n",
            "Name: count, dtype: int64\n",
            "\n",
            "Valores únicos en 'Partner':\n",
            "Partner\n",
            "No     3749\n",
            "Yes    3518\n",
            "Name: count, dtype: int64\n",
            "\n",
            "Valores únicos en 'Dependents':\n",
            "Dependents\n",
            "No     5086\n",
            "Yes    2181\n",
            "Name: count, dtype: int64\n",
            "\n",
            "Valores únicos en 'PhoneService':\n",
            "PhoneService\n",
            "Yes    6560\n",
            "No      707\n",
            "Name: count, dtype: int64\n",
            "\n",
            "Valores únicos en 'MultipleLines':\n",
            "MultipleLines\n",
            "No                  3495\n",
            "Yes                 3065\n",
            "No phone service     707\n",
            "Name: count, dtype: int64\n",
            "\n",
            "Valores únicos en 'InternetService':\n",
            "InternetService\n",
            "Fiber optic    3198\n",
            "DSL            2488\n",
            "No             1581\n",
            "Name: count, dtype: int64\n",
            "\n",
            "Valores únicos en 'OnlineSecurity':\n",
            "OnlineSecurity\n",
            "No                     3608\n",
            "Yes                    2078\n",
            "No internet service    1581\n",
            "Name: count, dtype: int64\n",
            "\n",
            "Valores únicos en 'OnlineBackup':\n",
            "OnlineBackup\n",
            "No                     3182\n",
            "Yes                    2504\n",
            "No internet service    1581\n",
            "Name: count, dtype: int64\n",
            "\n",
            "Valores únicos en 'DeviceProtection':\n",
            "DeviceProtection\n",
            "No                     3195\n",
            "Yes                    2491\n",
            "No internet service    1581\n",
            "Name: count, dtype: int64\n",
            "\n",
            "Valores únicos en 'TechSupport':\n",
            "TechSupport\n",
            "No                     3582\n",
            "Yes                    2104\n",
            "No internet service    1581\n",
            "Name: count, dtype: int64\n",
            "\n",
            "Valores únicos en 'StreamingTV':\n",
            "StreamingTV\n",
            "No                     2896\n",
            "Yes                    2790\n",
            "No internet service    1581\n",
            "Name: count, dtype: int64\n",
            "\n",
            "Valores únicos en 'StreamingMovies':\n",
            "StreamingMovies\n",
            "No                     2870\n",
            "Yes                    2816\n",
            "No internet service    1581\n",
            "Name: count, dtype: int64\n",
            "\n",
            "Valores únicos en 'Contract':\n",
            "Contract\n",
            "Month-to-month    4005\n",
            "Two year          1743\n",
            "One year          1519\n",
            "Name: count, dtype: int64\n",
            "\n",
            "Valores únicos en 'PaperlessBilling':\n",
            "PaperlessBilling\n",
            "Yes    4311\n",
            "No     2956\n",
            "Name: count, dtype: int64\n",
            "\n",
            "Valores únicos en 'PaymentMethod':\n",
            "PaymentMethod\n",
            "Electronic check             2445\n",
            "Mailed check                 1665\n",
            "Bank transfer (automatic)    1589\n",
            "Credit card (automatic)      1568\n",
            "Name: count, dtype: int64\n",
            "\n",
            "Valores únicos en 'Charges.Total':\n",
            "Charges.Total\n",
            "20.2       11\n",
            "           11\n",
            "19.75       9\n",
            "19.55       9\n",
            "19.9        9\n",
            "           ..\n",
            "1993.2      1\n",
            "72.1        1\n",
            "1237.85     1\n",
            "542.4       1\n",
            "593.3       1\n",
            "Name: count, Length: 6531, dtype: int64\n"
          ]
        }
      ]
    },
    {
      "cell_type": "code",
      "source": [
        "\n",
        "print(df_final['tenure'].dtype)\n"
      ],
      "metadata": {
        "colab": {
          "base_uri": "https://localhost:8080/"
        },
        "id": "N0CrGRTOPnNG",
        "outputId": "7a507550-11bc-42fa-eb52-10db279603d2"
      },
      "execution_count": 14,
      "outputs": [
        {
          "output_type": "stream",
          "name": "stdout",
          "text": [
            "int64\n"
          ]
        }
      ]
    },
    {
      "cell_type": "code",
      "source": [
        "# Convertir a numérico (forzando errores a NaN)\n",
        "df_final['Charges.Monthly'] = pd.to_numeric(df_final['Charges.Monthly'], errors='coerce')\n"
      ],
      "metadata": {
        "id": "xUETJc5aPr3W"
      },
      "execution_count": 15,
      "outputs": []
    },
    {
      "cell_type": "code",
      "source": [
        "df_final = df_final.dropna()\n"
      ],
      "metadata": {
        "id": "__CNpd3aPuCW"
      },
      "execution_count": 16,
      "outputs": []
    },
    {
      "cell_type": "code",
      "source": [
        "df_final['Charges.Monthly'].fillna(df_final['Charges.Monthly'].mean(), inplace=True)\n"
      ],
      "metadata": {
        "colab": {
          "base_uri": "https://localhost:8080/"
        },
        "id": "0qbSC5BiPw9Q",
        "outputId": "a5b7ddb3-effa-400a-9b44-8ad4823c23ba"
      },
      "execution_count": 17,
      "outputs": [
        {
          "output_type": "stream",
          "name": "stderr",
          "text": [
            "<ipython-input-17-8393253ad7e4>:1: FutureWarning: A value is trying to be set on a copy of a DataFrame or Series through chained assignment using an inplace method.\n",
            "The behavior will change in pandas 3.0. This inplace method will never work because the intermediate object on which we are setting values always behaves as a copy.\n",
            "\n",
            "For example, when doing 'df[col].method(value, inplace=True)', try using 'df.method({col: value}, inplace=True)' or df[col] = df[col].method(value) instead, to perform the operation inplace on the original object.\n",
            "\n",
            "\n",
            "  df_final['Charges.Monthly'].fillna(df_final['Charges.Monthly'].mean(), inplace=True)\n"
          ]
        }
      ]
    },
    {
      "cell_type": "code",
      "source": [
        "# 1. Eliminar filas con valores faltantes en la variable objetivo 'Churn_bin'\n",
        "df_final = df_final.dropna(subset=['Churn_bin'])\n",
        "\n",
        "# 2. Reemplazar categorías 'No internet service' y 'No phone service' por 'No' en columnas específicas\n",
        "cols_to_replace = [\n",
        "    'OnlineSecurity', 'OnlineBackup', 'DeviceProtection',\n",
        "    'TechSupport', 'StreamingTV', 'StreamingMovies', 'MultipleLines'\n",
        "]\n",
        "\n",
        "for col in cols_to_replace:\n",
        "    df_final[col] = df_final[col].replace({'No internet service': 'No', 'No phone service': 'No'})\n",
        "\n",
        "# 3. Convertir las columnas categóricas a tipo 'category' para optimizar memoria y análisis\n",
        "cat_cols = df_final.select_dtypes(include='object').columns\n",
        "for col in cat_cols:\n",
        "    df_final[col] = df_final[col].astype('category')\n",
        "\n",
        "# 4. Asegurar que las columnas numéricas estén en formato correcto y rellenar NaNs en 'Charges.Monthly'\n",
        "df_final['Charges.Monthly'] = pd.to_numeric(df_final['Charges.Monthly'], errors='coerce')\n",
        "df_final['Charges.Monthly'] = df_final['Charges.Monthly'].fillna(df_final['Charges.Monthly'].mean())\n",
        "\n",
        "# 5. Confirmar que no quedan valores faltantes\n",
        "print(\"Valores faltantes restantes por columna:\")\n",
        "print(df_final.isna().sum())\n"
      ],
      "metadata": {
        "colab": {
          "base_uri": "https://localhost:8080/"
        },
        "id": "oukHKRkzQn1G",
        "outputId": "ea375b0e-578f-404e-83b7-b46e0fdbd320"
      },
      "execution_count": 18,
      "outputs": [
        {
          "output_type": "stream",
          "name": "stdout",
          "text": [
            "Valores faltantes restantes por columna:\n",
            "customerID          0\n",
            "Churn               0\n",
            "gender              0\n",
            "SeniorCitizen       0\n",
            "Partner             0\n",
            "Dependents          0\n",
            "tenure              0\n",
            "PhoneService        0\n",
            "MultipleLines       0\n",
            "InternetService     0\n",
            "OnlineSecurity      0\n",
            "OnlineBackup        0\n",
            "DeviceProtection    0\n",
            "TechSupport         0\n",
            "StreamingTV         0\n",
            "StreamingMovies     0\n",
            "Contract            0\n",
            "PaperlessBilling    0\n",
            "PaymentMethod       0\n",
            "Charges.Monthly     0\n",
            "Charges.Total       0\n",
            "Churn_bin           0\n",
            "dtype: int64\n"
          ]
        }
      ]
    },
    {
      "cell_type": "code",
      "source": [
        "# Crear columna 'Cuentas_Diarias' dividiendo la facturación mensual entre 30 días\n",
        "df_final['Cuentas_Diarias'] = df_final['Charges.Monthly'] / 30\n",
        "\n",
        "# Verificar que se creó correctamente\n",
        "print(df_final[['Charges.Monthly', 'Cuentas_Diarias']].head())\n"
      ],
      "metadata": {
        "colab": {
          "base_uri": "https://localhost:8080/"
        },
        "id": "gfga34oHQ4yw",
        "outputId": "1e1485a6-bd00-4d1f-f347-160a5e30d8e4"
      },
      "execution_count": 19,
      "outputs": [
        {
          "output_type": "stream",
          "name": "stdout",
          "text": [
            "   Charges.Monthly  Cuentas_Diarias\n",
            "0             65.6         2.186667\n",
            "1             59.9         1.996667\n",
            "2             73.9         2.463333\n",
            "3             98.0         3.266667\n",
            "4             83.9         2.796667\n"
          ]
        }
      ]
    },
    {
      "cell_type": "code",
      "source": [
        "# Columnas con valores \"Yes\" y \"No\" para convertir a 1 y 0\n",
        "binary_cols = [\n",
        "    'Churn', 'Partner', 'Dependents', 'PhoneService', 'PaperlessBilling',\n",
        "    'OnlineSecurity', 'OnlineBackup', 'DeviceProtection', 'TechSupport',\n",
        "    'StreamingTV', 'StreamingMovies', 'MultipleLines'\n",
        "]\n",
        "\n",
        "# Reemplazo\n",
        "for col in binary_cols:\n",
        "    if col in df_final.columns:\n",
        "        df_final[col] = df_final[col].map({'Yes': 1, 'No': 0})\n"
      ],
      "metadata": {
        "id": "POR0mZTiRE2P"
      },
      "execution_count": 20,
      "outputs": []
    },
    {
      "cell_type": "code",
      "source": [
        "df_final['gender'] = df_final['gender'].map({'Male': 1, 'Female': 0})\n"
      ],
      "metadata": {
        "id": "IQuSdQVYRHQl"
      },
      "execution_count": null,
      "outputs": []
    },
    {
      "cell_type": "code",
      "source": [
        "df_final.rename(columns={\n",
        "    'Charges.Monthly': 'Charges_Monthly',\n",
        "    'Charges.Total': 'Charges_Total',\n",
        "    'Cuentas_Diarias': 'Daily_Charges',\n",
        "    'Churn': 'Churn_Flag'\n",
        "}, inplace=True)\n"
      ],
      "metadata": {
        "id": "vu0v2wJXRJX6"
      },
      "execution_count": 21,
      "outputs": []
    },
    {
      "cell_type": "code",
      "source": [
        "df_final['Contract'] = df_final['Contract'].replace({\n",
        "    'Month-to-month': 'Mes_a_mes',\n",
        "    'One year': 'Un_año',\n",
        "    'Two year': 'Dos_años'\n",
        "})\n"
      ],
      "metadata": {
        "colab": {
          "base_uri": "https://localhost:8080/"
        },
        "id": "s0zYhcHLRMGb",
        "outputId": "bebbcc4d-c936-4afe-99a9-c398965bcbc3"
      },
      "execution_count": 22,
      "outputs": [
        {
          "output_type": "stream",
          "name": "stderr",
          "text": [
            "<ipython-input-22-8aee965929c0>:1: FutureWarning: The behavior of Series.replace (and DataFrame.replace) with CategoricalDtype is deprecated. In a future version, replace will only be used for cases that preserve the categories. To change the categories, use ser.cat.rename_categories instead.\n",
            "  df_final['Contract'] = df_final['Contract'].replace({\n"
          ]
        }
      ]
    },
    {
      "cell_type": "code",
      "source": [
        "print(df_final.dtypes)\n"
      ],
      "metadata": {
        "colab": {
          "base_uri": "https://localhost:8080/"
        },
        "id": "uKZIe-U4RQwr",
        "outputId": "676c4e37-c061-491b-b6a0-bb8a7971a20e"
      },
      "execution_count": 23,
      "outputs": [
        {
          "output_type": "stream",
          "name": "stdout",
          "text": [
            "customerID          category\n",
            "Churn_Flag          category\n",
            "gender              category\n",
            "SeniorCitizen          int64\n",
            "Partner             category\n",
            "Dependents          category\n",
            "tenure                 int64\n",
            "PhoneService        category\n",
            "MultipleLines       category\n",
            "InternetService     category\n",
            "OnlineSecurity      category\n",
            "OnlineBackup        category\n",
            "DeviceProtection    category\n",
            "TechSupport         category\n",
            "StreamingTV         category\n",
            "StreamingMovies     category\n",
            "Contract            category\n",
            "PaperlessBilling    category\n",
            "PaymentMethod       category\n",
            "Charges_Monthly      float64\n",
            "Charges_Total       category\n",
            "Churn_bin            float64\n",
            "Daily_Charges        float64\n",
            "dtype: object\n"
          ]
        }
      ]
    },
    {
      "cell_type": "markdown",
      "source": [
        "\n",
        "# 📊 Carga y análisis"
      ],
      "metadata": {
        "id": "Ghc5sucAICgD"
      }
    },
    {
      "cell_type": "code",
      "source": [
        "# Estadísticas descriptivas para variables numéricas\n",
        "print(\"Resumen estadístico (variables numéricas):\")\n",
        "print(df_final.describe())\n",
        "\n",
        "# Seleccionar solo columnas numéricas\n",
        "num_cols = df_final.select_dtypes(include=['number']).columns\n",
        "\n",
        "# Mediana solo para columnas numéricas\n",
        "print(\"\\nMediana de variables numéricas:\")\n",
        "print(df_final[num_cols].median())\n",
        "\n",
        "# Estadísticas para variables categóricas: conteo de valores por categoría\n",
        "print(\"\\nConteo de valores por categoría (variables categóricas):\")\n",
        "cat_cols = df_final.select_dtypes(include='category').columns\n",
        "for col in cat_cols:\n",
        "    print(f\"\\nColumna: {col}\")\n",
        "    print(df_final[col].value_counts())\n",
        "\n"
      ],
      "metadata": {
        "id": "9fHGWGEqHW9u",
        "colab": {
          "base_uri": "https://localhost:8080/"
        },
        "outputId": "7b7acbab-5acf-489e-cf24-478a8ff8a5cc"
      },
      "execution_count": 24,
      "outputs": [
        {
          "output_type": "stream",
          "name": "stdout",
          "text": [
            "Resumen estadístico (variables numéricas):\n",
            "       SeniorCitizen       tenure  Charges_Monthly    Churn_bin  Daily_Charges\n",
            "count    7043.000000  7043.000000      7043.000000  7043.000000    7043.000000\n",
            "mean        0.162147    32.371149        64.761692     0.265370       2.158723\n",
            "std         0.368612    24.559481        30.090047     0.441561       1.003002\n",
            "min         0.000000     0.000000        18.250000     0.000000       0.608333\n",
            "25%         0.000000     9.000000        35.500000     0.000000       1.183333\n",
            "50%         0.000000    29.000000        70.350000     0.000000       2.345000\n",
            "75%         0.000000    55.000000        89.850000     1.000000       2.995000\n",
            "max         1.000000    72.000000       118.750000     1.000000       3.958333\n",
            "\n",
            "Mediana de variables numéricas:\n",
            "SeniorCitizen       0.000\n",
            "tenure             29.000\n",
            "Charges_Monthly    70.350\n",
            "Churn_bin           0.000\n",
            "Daily_Charges       2.345\n",
            "dtype: float64\n",
            "\n",
            "Conteo de valores por categoría (variables categóricas):\n",
            "\n",
            "Columna: customerID\n",
            "customerID\n",
            "9995-HOTOH    1\n",
            "0002-ORFBO    1\n",
            "0003-MKNFE    1\n",
            "9970-QBCDA    1\n",
            "9968-FFVVH    1\n",
            "             ..\n",
            "0014-BMAQU    1\n",
            "0013-SMEOE    1\n",
            "0013-MHZWF    1\n",
            "0013-EXCHZ    1\n",
            "0011-IGKFF    1\n",
            "Name: count, Length: 7043, dtype: int64\n",
            "\n",
            "Columna: Churn_Flag\n",
            "Churn_Flag\n",
            "0    5174\n",
            "1    1869\n",
            "Name: count, dtype: int64\n",
            "\n",
            "Columna: gender\n",
            "gender\n",
            "Male      3555\n",
            "Female    3488\n",
            "Name: count, dtype: int64\n",
            "\n",
            "Columna: Partner\n",
            "Partner\n",
            "0    3641\n",
            "1    3402\n",
            "Name: count, dtype: int64\n",
            "\n",
            "Columna: Dependents\n",
            "Dependents\n",
            "0    4933\n",
            "1    2110\n",
            "Name: count, dtype: int64\n",
            "\n",
            "Columna: PhoneService\n",
            "PhoneService\n",
            "1    6361\n",
            "0     682\n",
            "Name: count, dtype: int64\n",
            "\n",
            "Columna: MultipleLines\n",
            "MultipleLines\n",
            "0    4072\n",
            "1    2971\n",
            "Name: count, dtype: int64\n",
            "\n",
            "Columna: InternetService\n",
            "InternetService\n",
            "Fiber optic    3096\n",
            "DSL            2421\n",
            "No             1526\n",
            "Name: count, dtype: int64\n",
            "\n",
            "Columna: OnlineSecurity\n",
            "OnlineSecurity\n",
            "0    5024\n",
            "1    2019\n",
            "Name: count, dtype: int64\n",
            "\n",
            "Columna: OnlineBackup\n",
            "OnlineBackup\n",
            "0    4614\n",
            "1    2429\n",
            "Name: count, dtype: int64\n",
            "\n",
            "Columna: DeviceProtection\n",
            "DeviceProtection\n",
            "0    4621\n",
            "1    2422\n",
            "Name: count, dtype: int64\n",
            "\n",
            "Columna: TechSupport\n",
            "TechSupport\n",
            "0    4999\n",
            "1    2044\n",
            "Name: count, dtype: int64\n",
            "\n",
            "Columna: StreamingTV\n",
            "StreamingTV\n",
            "0    4336\n",
            "1    2707\n",
            "Name: count, dtype: int64\n",
            "\n",
            "Columna: StreamingMovies\n",
            "StreamingMovies\n",
            "0    4311\n",
            "1    2732\n",
            "Name: count, dtype: int64\n",
            "\n",
            "Columna: Contract\n",
            "Contract\n",
            "Mes_a_mes    3875\n",
            "Dos_años     1695\n",
            "Un_año       1473\n",
            "Name: count, dtype: int64\n",
            "\n",
            "Columna: PaperlessBilling\n",
            "PaperlessBilling\n",
            "1    4171\n",
            "0    2872\n",
            "Name: count, dtype: int64\n",
            "\n",
            "Columna: PaymentMethod\n",
            "PaymentMethod\n",
            "Electronic check             2365\n",
            "Mailed check                 1612\n",
            "Bank transfer (automatic)    1544\n",
            "Credit card (automatic)      1522\n",
            "Name: count, dtype: int64\n",
            "\n",
            "Columna: Charges_Total\n",
            "Charges_Total\n",
            "           11\n",
            "20.2       11\n",
            "19.75       9\n",
            "19.9        8\n",
            "20.05       8\n",
            "           ..\n",
            "1007.9      1\n",
            "1008.55     1\n",
            "100.35      1\n",
            "999.9       1\n",
            "990.9       1\n",
            "Name: count, Length: 6531, dtype: int64\n"
          ]
        }
      ]
    },
    {
      "cell_type": "code",
      "source": [
        "import matplotlib.pyplot as plt\n",
        "import seaborn as sns\n",
        "\n",
        "# Contar valores de churn\n",
        "churn_counts = df_final['Churn_Flag'].value_counts().sort_index()\n",
        "\n",
        "# Crear figura y ejes lado a lado\n",
        "fig, axes = plt.subplots(1, 2, figsize=(12,5))\n",
        "\n",
        "# Gráfico de barras usando matplotlib directamente para evitar warning\n",
        "colors = sns.color_palette('viridis', len(churn_counts))\n",
        "axes[0].bar(churn_counts.index.astype(str), churn_counts.values, color=colors)\n",
        "axes[0].set_title('Distribución de clientes por Churn (Evasión)')\n",
        "axes[0].set_xlabel('Churn (0 = No, 1 = Sí)')\n",
        "axes[0].set_ylabel('Cantidad de clientes')\n",
        "\n",
        "# Gráfico de pastel\n",
        "axes[1].pie(churn_counts.values, labels=churn_counts.index, autopct='%1.1f%%', colors=colors, startangle=90)\n",
        "axes[1].set_title('Proporción de clientes que se dieron de baja vs. los que permanecen')\n",
        "\n",
        "plt.tight_layout()\n",
        "plt.show()\n",
        "\n"
      ],
      "metadata": {
        "colab": {
          "base_uri": "https://localhost:8080/",
          "height": 490
        },
        "id": "9A8rORC8SYY0",
        "outputId": "7930a009-54b1-4da9-f338-d154ddd427de"
      },
      "execution_count": 25,
      "outputs": [
        {
          "output_type": "display_data",
          "data": {
            "text/plain": [
              "<Figure size 1200x500 with 2 Axes>"
            ],
            "image/png": "[encoded data removed]"
          },
          "metadata": {}
        }
      ]
    },
    {
      "cell_type": "code",
      "source": [
        "# Asegúrate de que Churn_Flag tenga valores \"Yes\" y \"No\"\n",
        "print(df_final['Churn_Flag'].unique())\n",
        "\n",
        "# Convertir si no se ha hecho aún\n",
        "df_final['Churn_num'] = df_final['Churn_Flag'].map({'No': 0, 'Yes': 1})\n"
      ],
      "metadata": {
        "colab": {
          "base_uri": "https://localhost:8080/"
        },
        "id": "7yBQlwDOTMut",
        "outputId": "225ec299-e153-4fe2-a5f0-db7647626e2f"
      },
      "execution_count": 26,
      "outputs": [
        {
          "output_type": "stream",
          "name": "stdout",
          "text": [
            "[0, 1]\n",
            "Categories (2, int64): [0, 1]\n"
          ]
        }
      ]
    },
    {
      "cell_type": "code",
      "source": [
        "import matplotlib.pyplot as plt\n",
        "import seaborn as sns\n",
        "import pandas as pd\n",
        "\n",
        "# Asegurarse de que 'Churn_num' sea tipo entero o flotante\n",
        "df_final['Churn_num'] = df_final['Churn_Flag'].astype(int)\n",
        "\n",
        "# Variables categóricas a analizar\n",
        "categorical_vars = ['gender', 'Contract', 'PaymentMethod', 'InternetService']\n",
        "\n",
        "# Crear subplots\n",
        "fig, axes = plt.subplots(2, 2, figsize=(16, 10))\n",
        "axes = axes.flatten()\n",
        "\n",
        "# Iterar sobre variables categóricas\n",
        "for i, col in enumerate(categorical_vars):\n",
        "    # Calcular tasa de churn por categoría\n",
        "    churn_rate = df_final.groupby(col, observed=True)['Churn_num'].mean()\n",
        "\n",
        "    # Graficar tasa de churn\n",
        "    sns.barplot(x=churn_rate.index.astype(str), y=churn_rate.values, ax=axes[i],\n",
        "                color='skyblue')  # Usamos color para evitar warnings\n",
        "\n",
        "    axes[i].set_title(f'Tasa de Evasión por {col}')\n",
        "    axes[i].set_xlabel(col)\n",
        "    axes[i].set_ylabel('Tasa de Evasión (Churn)')\n",
        "    axes[i].set_ylim(0, 1)  # Para estandarizar escala\n",
        "\n",
        "plt.tight_layout()\n",
        "plt.show()\n"
      ],
      "metadata": {
        "colab": {
          "base_uri": "https://localhost:8080/",
          "height": 737
        },
        "id": "lwBNjU9UUNUe",
        "outputId": "1b2ea202-6f9f-47c8-f35e-48b93ba6b0ec"
      },
      "execution_count": 27,
      "outputs": [
        {
          "output_type": "display_data",
          "data": {
            "text/plain": [
              "<Figure size 1600x1000 with 4 Axes>"
            ],
            "image/png": "[encoded data removed]"
          },
          "metadata": {}
        }
      ]
    },
    {
      "cell_type": "code",
      "source": [
        "import matplotlib.pyplot as plt\n",
        "import seaborn as sns\n",
        "import pandas as pd\n",
        "\n",
        "# Asegurar que las columnas numéricas están limpias\n",
        "df_final['Charges_Total'] = pd.to_numeric(df_final['Charges_Total'], errors='coerce')\n",
        "df_final['Charges_Monthly'] = pd.to_numeric(df_final['Charges_Monthly'], errors='coerce')\n",
        "df_final['Daily_Charges'] = pd.to_numeric(df_final['Daily_Charges'], errors='coerce')\n",
        "df_final['tenure'] = pd.to_numeric(df_final['tenure'], errors='coerce')\n",
        "\n",
        "# Lista de variables numéricas a analizar\n",
        "numeric_vars = ['Charges_Total', 'Charges_Monthly', 'Daily_Charges', 'tenure']\n",
        "\n",
        "# Color para las cajas\n",
        "box_color = sns.color_palette('Set2')[0]\n",
        "\n",
        "# Graficar una por una sin FutureWarnings\n",
        "for var in numeric_vars:\n",
        "    plt.figure(figsize=(6, 4))\n",
        "    sns.boxplot(data=df_final, x='Churn_num', y=var, color=box_color)\n",
        "    plt.title(f'{var} vs Evasión')\n",
        "    plt.xlabel('Evasión (0 = No, 1 = Sí)')\n",
        "    plt.ylabel(var)\n",
        "    plt.tight_layout()\n",
        "    plt.show()\n"
      ],
      "metadata": {
        "colab": {
          "base_uri": "https://localhost:8080/",
          "height": 1000
        },
        "id": "Lp9TNfMoaGaz",
        "outputId": "ae141f60-c5cc-49af-e977-b5430eddb437"
      },
      "execution_count": 33,
      "outputs": [
        {
          "output_type": "display_data",
          "data": {
            "text/plain": [
              "<Figure size 600x400 with 1 Axes>"
            ],
            "image/png": "[encoded data removed]"
          },
          "metadata": {}
        },
        {
          "output_type": "display_data",
          "data": {
            "text/plain": [
              "<Figure size 600x400 with 1 Axes>"
            ],
            "image/png": "[encoded data removed]"
          },
          "metadata": {}
        },
        {
          "output_type": "display_data",
          "data": {
            "text/plain": [
              "<Figure size 600x400 with 1 Axes>"
            ],
            "image/png": "[encoded data removed]"
          },
          "metadata": {}
        },
        {
          "output_type": "display_data",
          "data": {
            "text/plain": [
              "<Figure size 600x400 with 1 Axes>"
            ],
            "image/png": "[encoded data removed]"
          },
          "metadata": {}
        }
      ]
    },
    {
      "cell_type": "markdown",
      "source": [
        "\n",
        "# 📄Informe final"
      ],
      "metadata": {
        "id": "55daIyK1HWnq"
      }
    },
    {
      "cell_type": "markdown",
      "source": [
        "\n",
        "\n",
        "---\n",
        "\n",
        "# 📊 Informe Final - Análisis de Evasión de Clientes (Churn)\n",
        "\n",
        "---\n",
        "\n",
        "## 🔹 Introducción\n",
        "\n",
        "La evasión de clientes (churn) representa uno de los principales desafíos para las empresas de servicios. En este análisis, se estudia un conjunto de datos de clientes con el fin de identificar patrones y características que influyen en la cancelación del servicio.\n",
        "El objetivo es entender el comportamiento de los clientes que abandonan el servicio y encontrar oportunidades para mejorar la retención.\n",
        "\n",
        "---\n",
        "\n",
        "## 🔹 Limpieza y Tratamiento de Datos\n",
        "\n",
        "Durante el preprocesamiento del conjunto de datos:\n",
        "\n",
        "* Se importaron los datos correctamente.\n",
        "* Se detectaron y eliminaron valores nulos e inconsistentes.\n",
        "* Se convirtieron variables categóricas a tipo `category` para eficiencia y análisis.\n",
        "* Se crearon nuevas variables, como:\n",
        "\n",
        "  * `Churn_num`: versión numérica de la evasión (`0 = No`, `1 = Sí`).\n",
        "  * Cálculo de cargos diarios.\n",
        "* Se normalizaron columnas numéricas y se aseguraron los tipos adecuados (`float`, `int`, etc.).\n",
        "\n",
        "---\n",
        "\n",
        "## 🔹 Análisis Exploratorio de Datos (EDA)\n",
        "\n",
        "### 1. **Distribución General del Churn**\n",
        "\n",
        "* Se observó la proporción entre clientes que permanecen vs. los que abandonan.\n",
        "* Visualizaciones: Gráfico de barras y gráfico circular.\n",
        "\n",
        "### 2. **Churn por Variables Categóricas**\n",
        "\n",
        "* Se analizaron variables como `género`, `contrato`, `método de pago` y `tipo de servicio`.\n",
        "* Se identificaron diferencias en la tasa de evasión según estas categorías.\n",
        "\n",
        "### 3. **Variables Numéricas vs Churn**\n",
        "\n",
        "* Se compararon `Total Charges`, `Monthly Charges`, `Daily Charges` y `tenure` según si hubo churn o no.\n",
        "* Se usaron **boxplots** para observar diferencias en la distribución de estas variables.\n",
        "\n",
        "📌 Todas las visualizaciones fueron ajustadas para eliminar advertencias y optimizar el tiempo de ejecución.\n",
        "\n",
        "---\n",
        "\n",
        "## 🔹 Conclusiones e Insights\n",
        "\n",
        "* La mayoría de los clientes permanecen, pero hay un porcentaje significativo que abandona el servicio.\n",
        "* **Contratos mensuales** y **clientes con menor tiempo de antigüedad** (`tenure`) tienen tasas de evasión más altas.\n",
        "* Clientes con cargos mensuales elevados presentan mayor tendencia a cancelar el servicio.\n",
        "* El **método de pago automático con tarjeta** presenta una menor tasa de churn en comparación con otros métodos.\n",
        "* Las variables `DeviceProtection`, `TechSupport`, y `OnlineSecurity` están relacionadas con la retención de clientes.\n",
        "\n",
        "---\n",
        "\n",
        "## 🔹 Recomendaciones Estratégicas\n",
        "\n",
        "1. **Fomentar contratos a largo plazo**, ofreciendo descuentos o beneficios para disminuir churn entre clientes con contrato mensual.\n",
        "2. **Ofrecer paquetes combinados** con protección de dispositivos y soporte técnico, que están correlacionados con menor churn.\n",
        "3. **Incentivar el uso de pagos automáticos**, ya que este método se asocia con una mayor retención.\n",
        "4. **Detectar clientes con alta probabilidad de evasión** (por ejemplo, poco tiempo de antigüedad y cargos altos) y aplicar campañas de fidelización.\n",
        "5. **Implementar sistemas de alerta temprana** para detectar patrones de clientes en riesgo de cancelar el servicio.\n",
        "\n",
        "---\n",
        "\n",
        "📌 **Este análisis ofrece una base sólida para tomar decisiones informadas y diseñar estrategias efectivas de retención.**\n",
        "\n",
        "\n"
      ],
      "metadata": {
        "id": "dSXnM6AWap7f"
      }
    }
  ]
}